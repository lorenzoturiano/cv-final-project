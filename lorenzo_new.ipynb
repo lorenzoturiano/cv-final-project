{
 "cells": [
  {
   "cell_type": "code",
   "execution_count": 35,
   "id": "e7a16c89",
   "metadata": {},
   "outputs": [],
   "source": [
    "# Import general libraries\n",
    "import cv2\n",
    "import numpy as np\n",
    "from matplotlib import pyplot as plt"
   ]
  },
  {
   "cell_type": "code",
   "execution_count": 36,
   "id": "29485c8e",
   "metadata": {},
   "outputs": [],
   "source": [
    "# Run to turn ON interactive visualization\n",
    "%matplotlib tk"
   ]
  },
  {
   "cell_type": "code",
   "execution_count": 37,
   "id": "1b165ab0",
   "metadata": {},
   "outputs": [],
   "source": [
    "# Run to turn OFF interactive visualization\n",
    "%matplotlib inline"
   ]
  },
  {
   "cell_type": "code",
   "execution_count": 38,
   "id": "c8a55fb0",
   "metadata": {},
   "outputs": [],
   "source": [
    "# Function for Float32 to Uint8 conversion\n",
    "def float32_to_uint8(float_img):\n",
    "    # Check the current range of the image\n",
    "    min_val = float_img.min()\n",
    "    max_val = float_img.max()\n",
    "\n",
    "    # Method 1: Simple scaling (for images already in 0-1 range)\n",
    "    if 0 <= min_val and max_val <= 1:\n",
    "        uint8_img = (float_img * 255).clip(0, 255).astype(np.uint8)\n",
    "\n",
    "    # Method 2: Full normalization (for images with arbitrary ranges)\n",
    "    else:\n",
    "        # Normalize to 0-1 range first\n",
    "        normalized_img = (float_img - min_val) / (max_val - min_val)\n",
    "        # Then scale to 0-255\n",
    "        uint8_img = (normalized_img * 255).clip(0, 255).astype(np.uint8)\n",
    "\n",
    "    return uint8_img\n"
   ]
  },
  {
   "cell_type": "code",
   "execution_count": 39,
   "id": "ab7d9e15",
   "metadata": {},
   "outputs": [
    {
     "data": {
      "text/plain": [
       "True"
      ]
     },
     "execution_count": 39,
     "metadata": {},
     "output_type": "execute_result"
    }
   ],
   "source": [
    "# Load the image data: loaded as a 2D numpy array\n",
    "# dtype='>f4': 32 bit little-endian single-precision float\n",
    "from astropy.io import fits\n",
    "from auto_stretch import apply_stretch\n",
    "\n",
    "# Load the image data\n",
    "img_path = 'dataset/hst_skycell-p0035x15y12_wfc3_ir_f160w_coarse-all_drz.fits'\n",
    "raw_img = fits.getdata(img_path)\n",
    "\n",
    "# Stretch the image for better visualization\n",
    "stretched_img = apply_stretch(raw_img)\n",
    "stretched_img_uint = float32_to_uint8(stretched_img)\n",
    "cv2.imwrite('./outputs_lorenzo/original_image.png', stretched_img_uint)"
   ]
  },
  {
   "cell_type": "code",
   "execution_count": 40,
   "id": "dde0fbcc",
   "metadata": {},
   "outputs": [
    {
     "data": {
      "text/plain": [
       "True"
      ]
     },
     "execution_count": 40,
     "metadata": {},
     "output_type": "execute_result"
    }
   ],
   "source": [
    "sigma = 1.5\n",
    "k = 5\n",
    "\n",
    "blurred_image = cv2.GaussianBlur(stretched_img, (k, k), sigmaX=sigma)\n",
    "blurred_image_uint = float32_to_uint8(blurred_image)\n",
    "cv2.imwrite('./outputs_lorenzo/blurred_image.png', blurred_image_uint)"
   ]
  },
  {
   "cell_type": "code",
   "execution_count": 41,
   "id": "9d230a5e",
   "metadata": {},
   "outputs": [
    {
     "data": {
      "text/plain": [
       "np.float32(1029788.3)"
      ]
     },
     "execution_count": 41,
     "metadata": {},
     "output_type": "execute_result"
    }
   ],
   "source": [
    "# k = 13 # best so far\n",
    "k = 13\n",
    "sobel_x = cv2.Sobel(stretched_img, cv2.CV_32F, 1, 0, ksize=k)\n",
    "sobel_y = cv2.Sobel(stretched_img, cv2.CV_32F, 0, 1, ksize=k)\n",
    "grad_mag = cv2.magnitude(sobel_x, sobel_y)\n",
    "grad_mag_uint = float32_to_uint8(grad_mag)\n",
    "\n",
    "grad_mag.max()"
   ]
  },
  {
   "cell_type": "code",
   "execution_count": 42,
   "id": "aaa6aa15",
   "metadata": {},
   "outputs": [
    {
     "name": "stdout",
     "output_type": "stream",
     "text": [
      "121357.03\n"
     ]
    },
    {
     "data": {
      "text/plain": [
       "True"
      ]
     },
     "execution_count": 42,
     "metadata": {},
     "output_type": "execute_result"
    }
   ],
   "source": [
    "T = np.percentile(grad_mag, 99)\n",
    "print(T)\n",
    "_, star_mask = cv2.threshold(grad_mag_uint, T, 255, cv2.THRESH_BINARY+cv2.THRESH_OTSU)\n",
    "\n",
    "star_mask_uint = float32_to_uint8(star_mask)\n",
    "cv2.imwrite('./outputs_lorenzo/star_mask.png', star_mask)"
   ]
  },
  {
   "cell_type": "code",
   "execution_count": 43,
   "id": "80fed16c",
   "metadata": {},
   "outputs": [
    {
     "data": {
      "text/plain": [
       "True"
      ]
     },
     "execution_count": 43,
     "metadata": {},
     "output_type": "execute_result"
    }
   ],
   "source": [
    "from scipy import ndimage\n",
    "\n",
    "# Create true-false binary mask\n",
    "bool_star_mask = star_mask > 0\n",
    "bool_filled_mask = ndimage.binary_fill_holes(bool_star_mask)\n",
    "\n",
    "# Convert back to uint8 with 0 and 255 values\n",
    "filled_mask_uint = np.where(bool_filled_mask, 255, 0).astype(np.uint8)\n",
    "\n",
    "cv2.imwrite('./outputs_lorenzo/filled_star_mask.png', filled_mask_uint)"
   ]
  }
 ],
 "metadata": {
  "kernelspec": {
   "display_name": "final-project",
   "language": "python",
   "name": "python3"
  },
  "language_info": {
   "codemirror_mode": {
    "name": "ipython",
    "version": 3
   },
   "file_extension": ".py",
   "mimetype": "text/x-python",
   "name": "python",
   "nbconvert_exporter": "python",
   "pygments_lexer": "ipython3",
   "version": "3.13.2"
  }
 },
 "nbformat": 4,
 "nbformat_minor": 5
}
